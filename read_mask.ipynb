{
 "cells": [
  {
   "cell_type": "code",
   "execution_count": 2,
   "metadata": {},
   "outputs": [
    {
     "name": "stdout",
     "output_type": "stream",
     "text": [
      "(720, 720)\n",
      "[[ 0  0  0 ...  0  0  0]\n",
      " [ 0  0  0 ...  0  0  0]\n",
      " [ 0  0  0 ...  0  0  0]\n",
      " ...\n",
      " [18 18 18 ...  0  0  0]\n",
      " [18 18 18 ...  0  0  0]\n",
      " [18 18 18 ...  0  0  0]]\n"
     ]
    }
   ],
   "source": [
    "import os\n",
    "import natsort\n",
    "import glob\n",
    "import numpy as np\n",
    "masks_path =\"/home/zwhy/QT_project/labeling_tool/test_data/segmented_images/masks\"\n",
    "\n",
    "masks = natsort.natsorted(glob.glob(os.path.join(masks_path, \"*.npy\")))\n",
    "\n",
    "index = 0\n",
    "\n",
    "#read the mask\n",
    "mask = np.load(masks[index])\n",
    "print(mask.shape)\n",
    "\n",
    "print(mask)\n",
    "\n"
   ]
  }
 ],
 "metadata": {
  "kernelspec": {
   "display_name": "skin_filter",
   "language": "python",
   "name": "python3"
  },
  "language_info": {
   "codemirror_mode": {
    "name": "ipython",
    "version": 3
   },
   "file_extension": ".py",
   "mimetype": "text/x-python",
   "name": "python",
   "nbconvert_exporter": "python",
   "pygments_lexer": "ipython3",
   "version": "3.11.10"
  }
 },
 "nbformat": 4,
 "nbformat_minor": 2
}
